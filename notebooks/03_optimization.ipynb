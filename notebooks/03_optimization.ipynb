{
  "cells": [
    {
      "cell_type": "markdown",
      "metadata": {
        "id": "view-in-github",
        "colab_type": "text"
      },
      "source": [
        "<a href=\"https://colab.research.google.com/github/alexandrakraeva/IAAC2024_tutorials/blob/main/notebooks/03_optimization.ipynb\" target=\"_parent\"><img src=\"https://colab.research.google.com/assets/colab-badge.svg\" alt=\"Open In Colab\"/></a>"
      ]
    },
    {
      "cell_type": "markdown",
      "metadata": {
        "id": "sbDJnvEGXg91"
      },
      "source": [
        "<a href=\"https://colab.research.google.com/github/STASYA00/IAAC2024_tutorials/blob/main/quickstarts/03_optimization.ipynb\" target=\"_parent\"><img src=\"https://colab.research.google.com/assets/colab-badge.svg\" alt=\"Open In Colab\"/></a> - Stasja's notebook"
      ]
    },
    {
      "cell_type": "code",
      "execution_count": 77,
      "metadata": {
        "id": "hvwwZrLFXg-D",
        "outputId": "16e317a8-9670-47de-b620-ef66413586fe",
        "colab": {
          "base_uri": "https://localhost:8080/"
        }
      },
      "outputs": [
        {
          "output_type": "stream",
          "name": "stdout",
          "text": [
            "Requirement already satisfied: ortools in /usr/local/lib/python3.10/dist-packages (9.9.3963)\n",
            "Requirement already satisfied: ipykernel in /usr/local/lib/python3.10/dist-packages (5.5.6)\n",
            "Requirement already satisfied: plotly in /usr/local/lib/python3.10/dist-packages (5.15.0)\n",
            "Requirement already satisfied: nbformat in /usr/local/lib/python3.10/dist-packages (5.10.4)\n",
            "Requirement already satisfied: absl-py>=2.0.0 in /usr/local/lib/python3.10/dist-packages (from ortools) (2.1.0)\n",
            "Requirement already satisfied: numpy>=1.13.3 in /usr/local/lib/python3.10/dist-packages (from ortools) (1.25.2)\n",
            "Requirement already satisfied: pandas>=2.0.0 in /usr/local/lib/python3.10/dist-packages (from ortools) (2.0.3)\n",
            "Requirement already satisfied: protobuf>=4.25.3 in /usr/local/lib/python3.10/dist-packages (from ortools) (5.26.1)\n",
            "Requirement already satisfied: immutabledict>=3.0.0 in /usr/local/lib/python3.10/dist-packages (from ortools) (4.2.0)\n",
            "Requirement already satisfied: ipython-genutils in /usr/local/lib/python3.10/dist-packages (from ipykernel) (0.2.0)\n",
            "Requirement already satisfied: ipython>=5.0.0 in /usr/local/lib/python3.10/dist-packages (from ipykernel) (7.34.0)\n",
            "Requirement already satisfied: traitlets>=4.1.0 in /usr/local/lib/python3.10/dist-packages (from ipykernel) (5.7.1)\n",
            "Requirement already satisfied: jupyter-client in /usr/local/lib/python3.10/dist-packages (from ipykernel) (6.1.12)\n",
            "Requirement already satisfied: tornado>=4.2 in /usr/local/lib/python3.10/dist-packages (from ipykernel) (6.3.3)\n",
            "Requirement already satisfied: tenacity>=6.2.0 in /usr/local/lib/python3.10/dist-packages (from plotly) (8.2.3)\n",
            "Requirement already satisfied: packaging in /usr/local/lib/python3.10/dist-packages (from plotly) (24.0)\n",
            "Requirement already satisfied: fastjsonschema>=2.15 in /usr/local/lib/python3.10/dist-packages (from nbformat) (2.19.1)\n",
            "Requirement already satisfied: jsonschema>=2.6 in /usr/local/lib/python3.10/dist-packages (from nbformat) (4.19.2)\n",
            "Requirement already satisfied: jupyter-core!=5.0.*,>=4.12 in /usr/local/lib/python3.10/dist-packages (from nbformat) (5.7.2)\n",
            "Requirement already satisfied: setuptools>=18.5 in /usr/local/lib/python3.10/dist-packages (from ipython>=5.0.0->ipykernel) (67.7.2)\n",
            "Requirement already satisfied: jedi>=0.16 in /usr/local/lib/python3.10/dist-packages (from ipython>=5.0.0->ipykernel) (0.19.1)\n",
            "Requirement already satisfied: decorator in /usr/local/lib/python3.10/dist-packages (from ipython>=5.0.0->ipykernel) (4.4.2)\n",
            "Requirement already satisfied: pickleshare in /usr/local/lib/python3.10/dist-packages (from ipython>=5.0.0->ipykernel) (0.7.5)\n",
            "Requirement already satisfied: prompt-toolkit!=3.0.0,!=3.0.1,<3.1.0,>=2.0.0 in /usr/local/lib/python3.10/dist-packages (from ipython>=5.0.0->ipykernel) (3.0.43)\n",
            "Requirement already satisfied: pygments in /usr/local/lib/python3.10/dist-packages (from ipython>=5.0.0->ipykernel) (2.16.1)\n",
            "Requirement already satisfied: backcall in /usr/local/lib/python3.10/dist-packages (from ipython>=5.0.0->ipykernel) (0.2.0)\n",
            "Requirement already satisfied: matplotlib-inline in /usr/local/lib/python3.10/dist-packages (from ipython>=5.0.0->ipykernel) (0.1.7)\n",
            "Requirement already satisfied: pexpect>4.3 in /usr/local/lib/python3.10/dist-packages (from ipython>=5.0.0->ipykernel) (4.9.0)\n",
            "Requirement already satisfied: attrs>=22.2.0 in /usr/local/lib/python3.10/dist-packages (from jsonschema>=2.6->nbformat) (23.2.0)\n",
            "Requirement already satisfied: jsonschema-specifications>=2023.03.6 in /usr/local/lib/python3.10/dist-packages (from jsonschema>=2.6->nbformat) (2023.12.1)\n",
            "Requirement already satisfied: referencing>=0.28.4 in /usr/local/lib/python3.10/dist-packages (from jsonschema>=2.6->nbformat) (0.34.0)\n",
            "Requirement already satisfied: rpds-py>=0.7.1 in /usr/local/lib/python3.10/dist-packages (from jsonschema>=2.6->nbformat) (0.18.0)\n",
            "Requirement already satisfied: platformdirs>=2.5 in /usr/local/lib/python3.10/dist-packages (from jupyter-core!=5.0.*,>=4.12->nbformat) (4.2.0)\n",
            "Requirement already satisfied: python-dateutil>=2.8.2 in /usr/local/lib/python3.10/dist-packages (from pandas>=2.0.0->ortools) (2.8.2)\n",
            "Requirement already satisfied: pytz>=2020.1 in /usr/local/lib/python3.10/dist-packages (from pandas>=2.0.0->ortools) (2023.4)\n",
            "Requirement already satisfied: tzdata>=2022.1 in /usr/local/lib/python3.10/dist-packages (from pandas>=2.0.0->ortools) (2024.1)\n",
            "Requirement already satisfied: pyzmq>=13 in /usr/local/lib/python3.10/dist-packages (from jupyter-client->ipykernel) (23.2.1)\n",
            "Requirement already satisfied: parso<0.9.0,>=0.8.3 in /usr/local/lib/python3.10/dist-packages (from jedi>=0.16->ipython>=5.0.0->ipykernel) (0.8.4)\n",
            "Requirement already satisfied: ptyprocess>=0.5 in /usr/local/lib/python3.10/dist-packages (from pexpect>4.3->ipython>=5.0.0->ipykernel) (0.7.0)\n",
            "Requirement already satisfied: wcwidth in /usr/local/lib/python3.10/dist-packages (from prompt-toolkit!=3.0.0,!=3.0.1,<3.1.0,>=2.0.0->ipython>=5.0.0->ipykernel) (0.2.13)\n",
            "Requirement already satisfied: six>=1.5 in /usr/local/lib/python3.10/dist-packages (from python-dateutil>=2.8.2->pandas>=2.0.0->ortools) (1.16.0)\n"
          ]
        }
      ],
      "source": [
        "!pip install ortools ipykernel plotly nbformat"
      ]
    },
    {
      "cell_type": "code",
      "execution_count": 78,
      "metadata": {
        "id": "Iy3DHUA0Xg-E"
      },
      "outputs": [],
      "source": [
        "# !pip install --upgrade nbformat"
      ]
    },
    {
      "cell_type": "markdown",
      "metadata": {
        "id": "2QfvjGCqXg-F"
      },
      "source": [
        "* [Ortools package](https://developers.google.com/optimization)\n",
        "* [What is optimization](https://en.wikipedia.org/wiki/Mathematical_optimization)\n",
        "* [Video on what optimization is](https://youtu.be/AM6BY4btj-M?t=170&si=FUAW-bzml27y61zq) - only 2.50 - 6.00"
      ]
    },
    {
      "cell_type": "markdown",
      "metadata": {
        "id": "cP82ouWjXg-F"
      },
      "source": [
        "## 🕍Optimizing house placement"
      ]
    },
    {
      "cell_type": "code",
      "execution_count": 79,
      "metadata": {
        "id": "onBDJnHDXg-G"
      },
      "outputs": [],
      "source": [
        "from shapely.geometry import Polygon\n",
        "import matplotlib.pyplot as plt\n",
        "import seaborn as sns\n",
        "sns.set_style()"
      ]
    },
    {
      "cell_type": "code",
      "execution_count": 80,
      "metadata": {
        "id": "MNrMpmatXg-G",
        "outputId": "89369449-1be2-47f7-fa5a-26ad87ad4d2c",
        "colab": {
          "base_uri": "https://localhost:8080/",
          "height": 121
        }
      },
      "outputs": [
        {
          "output_type": "execute_result",
          "data": {
            "text/plain": [
              "<POLYGON ((0 0, 150 0, 150 50, 0 50, 0 0))>"
            ],
            "image/svg+xml": "<svg xmlns=\"http://www.w3.org/2000/svg\" xmlns:xlink=\"http://www.w3.org/1999/xlink\" width=\"162.0\" height=\"100.0\" viewBox=\"-6.0 -6.0 162.0 62.0\" preserveAspectRatio=\"xMinYMin meet\"><g transform=\"matrix(1,0,0,-1,0,50.0)\"><path fill-rule=\"evenodd\" fill=\"#66cc99\" stroke=\"#555555\" stroke-width=\"2.0\" opacity=\"0.6\" d=\"M 0.0,0.0 L 150.0,0.0 L 150.0,50.0 L 0.0,50.0 L 0.0,0.0 z\" /></g></svg>"
          },
          "metadata": {},
          "execution_count": 80
        }
      ],
      "source": [
        "width = 150\n",
        "depth = 50\n",
        "x1 = 0\n",
        "y1 = 0\n",
        "coords = [(x1, y1), (x1 + width, y1), (x1+width, y1+depth), (x1, y1+depth), (x1, y1)]\n",
        "house = Polygon(coords)\n",
        "house"
      ]
    },
    {
      "cell_type": "markdown",
      "metadata": {
        "id": "TS2lPdcpXg-H"
      },
      "source": [
        "Site geometry"
      ]
    },
    {
      "cell_type": "code",
      "execution_count": 81,
      "metadata": {
        "id": "WcqPgHm0Xg-H",
        "outputId": "389120cd-abc4-4150-baaa-76174e8d0bb7",
        "colab": {
          "base_uri": "https://localhost:8080/",
          "height": 191
        }
      },
      "outputs": [
        {
          "output_type": "execute_result",
          "data": {
            "text/plain": [
              "<POLYGON ((0 0, 70 0, 70 50, 250 50, 250 150, 0 150, 0 0))>"
            ],
            "image/svg+xml": "<svg xmlns=\"http://www.w3.org/2000/svg\" xmlns:xlink=\"http://www.w3.org/1999/xlink\" width=\"270.0\" height=\"170.0\" viewBox=\"-10.0 -10.0 270.0 170.0\" preserveAspectRatio=\"xMinYMin meet\"><g transform=\"matrix(1,0,0,-1,0,150.0)\"><path fill-rule=\"evenodd\" fill=\"#66cc99\" stroke=\"#555555\" stroke-width=\"2.0\" opacity=\"0.6\" d=\"M 0.0,0.0 L 70.0,0.0 L 70.0,50.0 L 250.0,50.0 L 250.0,150.0 L 0.0,150.0 L 0.0,0.0 z\" /></g></svg>"
          },
          "metadata": {},
          "execution_count": 81
        }
      ],
      "source": [
        "coords = [(0, 0), (70, 0), (70, 50), (250, 50), (250, 150), (0, 150), (0,0)]\n",
        "site = Polygon(coords)\n",
        "site"
      ]
    },
    {
      "cell_type": "markdown",
      "metadata": {
        "id": "BQXzPJDzXg-I"
      },
      "source": [
        "### Optimizing house position"
      ]
    },
    {
      "cell_type": "markdown",
      "metadata": {
        "id": "E1T1BeBRXg-I"
      },
      "source": [
        "We will be using [CP-SAT](https://developers.google.com/optimization/cp/cp_solver) solver made available to general public by Google."
      ]
    },
    {
      "cell_type": "code",
      "execution_count": 82,
      "metadata": {
        "id": "VhYP6ScvXg-I"
      },
      "outputs": [],
      "source": [
        "from ortools.sat.python import cp_model\n",
        "model = cp_model.CpModel()"
      ]
    },
    {
      "cell_type": "markdown",
      "metadata": {
        "id": "0tYl4UIjXg-J"
      },
      "source": [
        "Let's place our house onto the site. The constraints would be that:\n",
        "* all house coordinates are within the site polygon"
      ]
    },
    {
      "cell_type": "code",
      "execution_count": 83,
      "metadata": {
        "id": "Rv3tbpMlXg-J",
        "outputId": "c42d4df2-4e06-4c34-aa95-fcf3b792785f",
        "colab": {
          "base_uri": "https://localhost:8080/"
        }
      },
      "outputs": [
        {
          "output_type": "execute_result",
          "data": {
            "text/plain": [
              "(0.0, 0.0, 250.0, 150.0)"
            ]
          },
          "metadata": {},
          "execution_count": 83
        }
      ],
      "source": [
        "site.bounds"
      ]
    },
    {
      "cell_type": "code",
      "execution_count": 84,
      "metadata": {
        "id": "IiO3xfz3Xg-J",
        "outputId": "c3d4dbe2-6bbf-4d87-ab1f-3c817251eb46",
        "colab": {
          "base_uri": "https://localhost:8080/"
        }
      },
      "outputs": [
        {
          "output_type": "execute_result",
          "data": {
            "text/plain": [
              "x1(0..250)"
            ]
          },
          "metadata": {},
          "execution_count": 84
        }
      ],
      "source": [
        "# Int var says that we create an integer variable that can have any value in a certain range.\n",
        "# This range is given when we define the variable: here it is 0 and the maximum coordinate of our site (250):\n",
        "x1 = model.NewIntVar(0, int(max(site.bounds)), 'x1')  # last argument is the name of the variable in the model\n",
        "x1"
      ]
    },
    {
      "cell_type": "code",
      "execution_count": 85,
      "metadata": {
        "id": "sidK2XSVXg-K"
      },
      "outputs": [],
      "source": [
        "# The rest of the house coordinates\n",
        "x2 = model.NewIntVar(0, int(max(site.bounds)), 'x2')\n",
        "y1 = model.NewIntVar(0, int(max(site.bounds)), 'y1')\n",
        "y2 = model.NewIntVar(0, int(max(site.bounds)), 'y2')"
      ]
    },
    {
      "cell_type": "markdown",
      "metadata": {
        "id": "pqT8SUXvXg-K"
      },
      "source": [
        "Now let's add the relationship between the coordinates and tell our model that x2 - x1 = width"
      ]
    },
    {
      "cell_type": "code",
      "execution_count": 86,
      "metadata": {
        "id": "U8gL2eMyXg-L",
        "outputId": "58e93fad-111b-45e7-fc0b-07c750255fcf",
        "colab": {
          "base_uri": "https://localhost:8080/"
        }
      },
      "outputs": [
        {
          "output_type": "execute_result",
          "data": {
            "text/plain": [
              "<ortools.sat.python.cp_model.Constraint at 0x7a795362a650>"
            ]
          },
          "metadata": {},
          "execution_count": 86
        }
      ],
      "source": [
        "model.Add(x2-x1==width)\n",
        "model.Add(y2-y1==depth)\n",
        "\n",
        "# Note that our house does not rotate at the moment. We are only placing it vertically."
      ]
    },
    {
      "cell_type": "code",
      "execution_count": 87,
      "metadata": {
        "id": "OrOK195pXg-L",
        "outputId": "5e65e199-2868-475a-9f80-140759cd7262",
        "colab": {
          "base_uri": "https://localhost:8080/"
        }
      },
      "outputs": [
        {
          "output_type": "execute_result",
          "data": {
            "text/plain": [
              "<ortools.sat.python.cp_model.Constraint at 0x7a79534d62f0>"
            ]
          },
          "metadata": {},
          "execution_count": 87
        }
      ],
      "source": [
        "model.Add(x1 < int(site.bounds[2]))\n",
        "model.Add(y1 < int(site.bounds[3]))\n",
        "model.Add(x2 < int(site.bounds[2]))\n",
        "model.Add(y2 < int(site.bounds[3]))"
      ]
    },
    {
      "cell_type": "code",
      "execution_count": 88,
      "metadata": {
        "id": "o-aE4Y0jXg-L"
      },
      "outputs": [],
      "source": [
        "model.Minimize(y2)"
      ]
    },
    {
      "cell_type": "code",
      "execution_count": 89,
      "metadata": {
        "id": "it1yOVpnXg-M",
        "outputId": "a7fc2e78-389f-49ed-eeb9-67c02df99151",
        "colab": {
          "base_uri": "https://localhost:8080/"
        }
      },
      "outputs": [
        {
          "output_type": "execute_result",
          "data": {
            "text/plain": [
              "4"
            ]
          },
          "metadata": {},
          "execution_count": 89
        }
      ],
      "source": [
        "solver = cp_model.CpSolver()\n",
        "status = solver.Solve(model)\n",
        "status"
      ]
    },
    {
      "cell_type": "code",
      "execution_count": 90,
      "metadata": {
        "id": "MSIAcwbgXg-M",
        "outputId": "cb46b70f-26c0-4648-ecdf-0b395bc1daf9",
        "colab": {
          "base_uri": "https://localhost:8080/"
        }
      },
      "outputs": [
        {
          "output_type": "stream",
          "name": "stdout",
          "text": [
            "x1: 0\n",
            "x2: 150\n",
            "y1: 0\n",
            "y2: 50\n"
          ]
        }
      ],
      "source": [
        "print(\"x1:\", solver.Value(x1))\n",
        "print(\"x2:\", solver.Value(x2))\n",
        "print(\"y1:\", solver.Value(y1))\n",
        "print(\"y2:\", solver.Value(y2))"
      ]
    },
    {
      "cell_type": "code",
      "execution_count": 91,
      "metadata": {
        "id": "hK2PpwdpXg-M"
      },
      "outputs": [],
      "source": [
        "house_location = Polygon([\n",
        "    (solver.Value(x1), solver.Value(y1)),\n",
        "    (solver.Value(x2), solver.Value(y1)),\n",
        "    (solver.Value(x2), solver.Value(y2)),\n",
        "    (solver.Value(x1), solver.Value(y2)),\n",
        "    (solver.Value(x1), solver.Value(y1))])"
      ]
    },
    {
      "cell_type": "code",
      "execution_count": 92,
      "metadata": {
        "id": "N2t9KpFeXg-N",
        "outputId": "69bbffc1-412a-4410-93ad-55166c7e6bab",
        "colab": {
          "base_uri": "https://localhost:8080/",
          "height": 447
        }
      },
      "outputs": [
        {
          "output_type": "execute_result",
          "data": {
            "text/plain": [
              "[<matplotlib.lines.Line2D at 0x7a79535aa680>]"
            ]
          },
          "metadata": {},
          "execution_count": 92
        },
        {
          "output_type": "display_data",
          "data": {
            "text/plain": [
              "<Figure size 640x480 with 1 Axes>"
            ],
            "image/png": "[encoded data removed]"
          },
          "metadata": {}
        }
      ],
      "source": [
        "plt.plot(*site.exterior.xy)\n",
        "plt.plot(*house_location.exterior.xy)"
      ]
    },
    {
      "cell_type": "code",
      "execution_count": 93,
      "metadata": {
        "id": "PZXOfPtnXg-N"
      },
      "outputs": [],
      "source": [
        "def plot_result(slvr):\n",
        "    print(\"x1:\", slvr.Value(x1))\n",
        "    print(\"x2:\", slvr.Value(x2))\n",
        "    print(\"y1:\", slvr.Value(y1))\n",
        "    print(\"y2:\", slvr.Value(y2))\n",
        "\n",
        "    house_location = Polygon([\n",
        "    (solver.Value(x1), solver.Value(y1)),\n",
        "    (solver.Value(x2), solver.Value(y1)),\n",
        "    (solver.Value(x2), solver.Value(y2)),\n",
        "    (solver.Value(x1), solver.Value(y2)),\n",
        "    (solver.Value(x1), solver.Value(y1))])\n",
        "\n",
        "    plt.plot(*site.exterior.xy)\n",
        "    plt.plot(*house_location.exterior.xy)\n"
      ]
    },
    {
      "cell_type": "markdown",
      "metadata": {
        "id": "cwF8_21aXg-N"
      },
      "source": [
        "Let's adjust our constraints:"
      ]
    },
    {
      "cell_type": "code",
      "execution_count": 95,
      "metadata": {
        "id": "tEZU6eBsXg-O",
        "outputId": "55c419c1-498c-4fef-c802-406ffbe95cb3",
        "colab": {
          "base_uri": "https://localhost:8080/"
        }
      },
      "outputs": [
        {
          "output_type": "execute_result",
          "data": {
            "text/plain": [
              "<ortools.sat.python.cp_model.Constraint at 0x7a795355b7c0>"
            ]
          },
          "metadata": {},
          "execution_count": 95
        }
      ],
      "source": [
        "model = cp_model.CpModel()\n",
        "x1 = model.NewIntVar(0, int(max(site.bounds)), 'x1')\n",
        "x2 = model.NewIntVar(0, int(max(site.bounds)), 'x2')\n",
        "y1 = model.NewIntVar(0, int(max(site.bounds)), 'y1')\n",
        "y2 = model.NewIntVar(0, int(max(site.bounds)), 'y2')\n",
        "\n",
        "model.Add(x2-x1==width)\n",
        "model.Add(y2-y1==depth)\n",
        "\n",
        "model.Add(x1 < int(site.bounds[2]))\n",
        "model.Add(y1 < int(site.bounds[3]))\n",
        "model.Add(x2 < int(site.bounds[2]))\n",
        "model.Add(y2 < int(site.bounds[3]))"
      ]
    },
    {
      "cell_type": "code",
      "execution_count": 96,
      "metadata": {
        "id": "XCvNq4L5Xg-O"
      },
      "outputs": [],
      "source": [
        "x1_outside = model.NewBoolVar(\"x1_outside\")  # true if x1 > 70 -> in the question zone\n",
        "x2_outside = model.NewBoolVar(\"x2_outside\")  # true if x2 > 70 -> in the question zone"
      ]
    },
    {
      "cell_type": "code",
      "execution_count": 97,
      "metadata": {
        "id": "dkMBJwHUXg-O",
        "outputId": "f4f45e2e-385f-47f4-9bf8-d4079971366a",
        "colab": {
          "base_uri": "https://localhost:8080/"
        }
      },
      "outputs": [
        {
          "output_type": "execute_result",
          "data": {
            "text/plain": [
              "<ortools.sat.python.cp_model.Constraint at 0x7a795355bf70>"
            ]
          },
          "metadata": {},
          "execution_count": 97
        }
      ],
      "source": [
        "model.Add(x1>=70).OnlyEnforceIf(x1_outside)\n",
        "model.Add(x1<70).OnlyEnforceIf(x1_outside.Not())\n",
        "model.Add(x2>=70).OnlyEnforceIf(x2_outside)\n",
        "model.Add(x2<70).OnlyEnforceIf(x2_outside.Not())"
      ]
    },
    {
      "cell_type": "code",
      "execution_count": 98,
      "metadata": {
        "id": "sLWM7XpAXg-P",
        "outputId": "53cb4aca-05f8-4dda-99ac-1990e5355e84",
        "colab": {
          "base_uri": "https://localhost:8080/"
        }
      },
      "outputs": [
        {
          "output_type": "execute_result",
          "data": {
            "text/plain": [
              "<ortools.sat.python.cp_model.Constraint at 0x7a795362ba60>"
            ]
          },
          "metadata": {},
          "execution_count": 98
        }
      ],
      "source": [
        "model.Add(y1>=50).OnlyEnforceIf(x1_outside)  # if x coordinate is in the \"outside zone\" y coordinate can only be from 50 to 150\n",
        "model.Add(y1>=50).OnlyEnforceIf(x2_outside)\n",
        "model.Add(y2>=50).OnlyEnforceIf(x1_outside)\n",
        "model.Add(y2>=50).OnlyEnforceIf(x2_outside)"
      ]
    },
    {
      "cell_type": "code",
      "execution_count": 99,
      "metadata": {
        "id": "chONpGxIXg-P",
        "outputId": "0b6467f2-eefa-4ce9-a776-8269c671c703",
        "colab": {
          "base_uri": "https://localhost:8080/"
        }
      },
      "outputs": [
        {
          "output_type": "execute_result",
          "data": {
            "text/plain": [
              "4"
            ]
          },
          "metadata": {},
          "execution_count": 99
        }
      ],
      "source": [
        "model.Minimize(y2)\n",
        "solver = cp_model.CpSolver()\n",
        "status = solver.Solve(model)\n",
        "status"
      ]
    },
    {
      "cell_type": "code",
      "execution_count": 100,
      "metadata": {
        "id": "nE-vWLLDXg-Q",
        "outputId": "e2a59c73-de6d-493a-a3ad-7780d939cdc8",
        "colab": {
          "base_uri": "https://localhost:8080/",
          "height": 35
        }
      },
      "outputs": [
        {
          "output_type": "execute_result",
          "data": {
            "text/plain": [
              "'OPTIMAL'"
            ],
            "application/vnd.google.colaboratory.intrinsic+json": {
              "type": "string"
            }
          },
          "metadata": {},
          "execution_count": 100
        }
      ],
      "source": [
        "solver.status_name()"
      ]
    },
    {
      "cell_type": "code",
      "execution_count": 101,
      "metadata": {
        "id": "YkcsX2-FXg-Q",
        "outputId": "7351d4e1-adab-4e4f-dc3a-0f618b6dd3ca",
        "colab": {
          "base_uri": "https://localhost:8080/",
          "height": 498
        }
      },
      "outputs": [
        {
          "output_type": "stream",
          "name": "stdout",
          "text": [
            "x1: 69\n",
            "x2: 219\n",
            "y1: 50\n",
            "y2: 100\n"
          ]
        },
        {
          "output_type": "display_data",
          "data": {
            "text/plain": [
              "<Figure size 640x480 with 1 Axes>"
            ],
            "image/png": "[encoded data removed]"
          },
          "metadata": {}
        }
      ],
      "source": [
        "plot_result(solver)"
      ]
    },
    {
      "cell_type": "markdown",
      "metadata": {
        "id": "2c0fE7A8Xg-R"
      },
      "source": [
        "### 🧩 Task I - multiple houses"
      ]
    },
    {
      "cell_type": "markdown",
      "metadata": {
        "id": "OeNPmkJXXg-R"
      },
      "source": [
        "We learnt how to place a single house on a given site. Let's say we have multiple houses and our goal is to fit as many as possible on a site.\n",
        "\n",
        "Assume that there are no regulations on distance between the houses.\n",
        "\n",
        "__Hint:__\n",
        "* take a look at [2d bin packing](https://yetanothermathprogrammingconsultant.blogspot.com/2021/02/2d-bin-packing-with-google-or-tools-cp.html), feel free to adjust the code\n",
        "* use [interval var](https://developers.google.com/optimization/reference/python/sat/python/cp_model#newintervalvar)\n",
        "* use [AddNoOverlap2D](https://developers.google.com/optimization/reference/python/sat/python/cp_model#addnooverlap2d)"
      ]
    },
    {
      "cell_type": "code",
      "execution_count": 110,
      "metadata": {
        "id": "T9MRIwTZXg-S"
      },
      "outputs": [],
      "source": [
        "# site_coords = [(0, 0), (70, 0), (70, 50), (250, 50), (250, 150), (0, 150), (0,0)]\n",
        "site_coords = [(0,0), (200, 0), (200, 400), (400, 0), (0,0)]  # simplified version"
      ]
    },
    {
      "cell_type": "code",
      "execution_count": 111,
      "metadata": {
        "id": "-kH6iEU7Xg-S"
      },
      "outputs": [],
      "source": [
        "# houses are presented as width and height\n",
        "houses = [\n",
        "    [20, 40],\n",
        "    [25, 40],\n",
        "    [70, 100],\n",
        "    [75, 30],\n",
        "    [30, 30],\n",
        "    [30, 30],\n",
        "    [12, 25],\n",
        "    [12, 20],\n",
        "    [40, 20],\n",
        "    [40, 30],\n",
        "    [70, 30],\n",
        "    [12, 25],\n",
        "    [12, 20],\n",
        "    [40, 20],\n",
        "    [40, 30],\n",
        "    [70, 30],\n",
        "]"
      ]
    },
    {
      "cell_type": "markdown",
      "metadata": {
        "id": "Pvh6zRaHXg-S"
      },
      "source": [
        "To get you started, we initiate the model and add a variable for each house that shows whether it is placed or not:"
      ]
    },
    {
      "cell_type": "code",
      "execution_count": 113,
      "metadata": {
        "id": "7QxHKtw1Xg-T"
      },
      "outputs": [],
      "source": [
        "# Model\n",
        "model = cp_model.CpModel()\n",
        "\n",
        "# Variables for each house\n",
        "x_vars = []\n",
        "y_vars = []\n",
        "width_intervals = []\n",
        "depth_intervals = []\n",
        "placed_vars = []"
      ]
    },
    {
      "cell_type": "markdown",
      "metadata": {
        "id": "SR_FCdwOXg-T"
      },
      "source": [
        "Building variables for one house (let's take number 1):"
      ]
    },
    {
      "cell_type": "markdown",
      "metadata": {
        "id": "D_R7pD8sXg-U"
      },
      "source": [
        "![Variables explanation](https://github.com/STASYA00/IAAC2024_tutorials/blob/main/.assets/optimization/1.jpg?raw=1)"
      ]
    },
    {
      "cell_type": "code",
      "execution_count": 114,
      "metadata": {
        "id": "5kG6n9nsXg-U"
      },
      "outputs": [],
      "source": [
        "for i, (width, height) in enumerate(houses):\n",
        "    # Placement status of each house\n",
        "    placed = model.NewBoolVar(f\"placed_{i}\")\n",
        "    placed_vars.append(placed)\n",
        "\n",
        "    # X and Y coordinates of the house\n",
        "    x1 = model.NewIntVar(0, MAX_SITE_WIDTH - width, f\"x1_{i}\")\n",
        "    y1 = model.NewIntVar(0, MAX_SITE_HEIGHT - height, f\"y1_{i}\")\n",
        "    x2 = model.NewIntVar(width, MAX_SITE_WIDTH, f\"x2_{i}\")\n",
        "    y2 = model.NewIntVar(height, MAX_SITE_HEIGHT, f\"y2_{i}\")\n",
        "\n",
        "    x_vars.append(x1)\n",
        "    y_vars.append(y1)"
      ]
    },
    {
      "cell_type": "code",
      "execution_count": 116,
      "metadata": {
        "id": "vtK5g9WeXg-V"
      },
      "outputs": [],
      "source": [
        "# Intervals for width and height\n",
        "width_interval = model.NewOptionalIntervalVar(x1, width, x2, placed, f'width_interval_{i}')\n",
        "depth_interval = model.NewOptionalIntervalVar(y1, height, y2, placed, f'depth_interval_{i}')\n",
        "\n",
        "width_intervals.append(width_interval)\n",
        "depth_intervals.append(depth_interval)"
      ]
    },
    {
      "cell_type": "markdown",
      "metadata": {
        "id": "L2SXxTGPXg-V"
      },
      "source": [
        "Complete the model with all the houses."
      ]
    },
    {
      "cell_type": "code",
      "execution_count": 117,
      "metadata": {
        "id": "qjRoeKSkXg-V",
        "outputId": "9e4b82e1-1c7e-4676-e1c2-3b8ee84a2cc4",
        "colab": {
          "base_uri": "https://localhost:8080/"
        }
      },
      "outputs": [
        {
          "output_type": "execute_result",
          "data": {
            "text/plain": [
              "<ortools.sat.python.cp_model.Constraint at 0x7a79534d7b20>"
            ]
          },
          "metadata": {},
          "execution_count": 117
        }
      ],
      "source": [
        "model.AddNoOverlap2D(width_intervals, depth_intervals)"
      ]
    },
    {
      "cell_type": "markdown",
      "metadata": {
        "id": "kBhvpPlfXg-W"
      },
      "source": [
        "![Overlap](https://github.com/STASYA00/IAAC2024_tutorials/blob/main/.assets/optimization/2.jpg?raw=1)"
      ]
    },
    {
      "cell_type": "code",
      "execution_count": 118,
      "metadata": {
        "id": "xHefHzsUXg-W",
        "outputId": "4ded25ad-bf25-4ffd-d9f0-f9db40caf9f1",
        "colab": {
          "base_uri": "https://localhost:8080/"
        }
      },
      "outputs": [
        {
          "output_type": "execute_result",
          "data": {
            "text/plain": [
              "<ortools.sat.python.cp_model.Constraint at 0x7a79534d4040>"
            ]
          },
          "metadata": {},
          "execution_count": 118
        }
      ],
      "source": [
        "model.AddNoOverlap2D(house_widths, house_depths)"
      ]
    },
    {
      "cell_type": "markdown",
      "metadata": {
        "id": "M4YJf8HYXg-W"
      },
      "source": [
        "Run the solver and visualize the solution"
      ]
    },
    {
      "cell_type": "code",
      "execution_count": 119,
      "metadata": {
        "id": "1ZRT3yV2Xg-W"
      },
      "outputs": [],
      "source": [
        "model.Maximize(sum(placed_vars))"
      ]
    },
    {
      "cell_type": "code",
      "source": [
        "# Solver\n",
        "solver = cp_model.CpSolver()\n",
        "status = solver.Solve(model)\n",
        "\n",
        "if status == cp_model.OPTIMAL:\n",
        "    print(\"Max number of houses placed:\", solver.ObjectiveValue())\n",
        "    for i in range(len(houses)):\n",
        "        if solver.Value(placed_vars[i]):\n",
        "            print(f\"House {i} placed at ({solver.Value(x_vars[i])}, {solver.Value(y_vars[i])})\")\n",
        "        else:\n",
        "            print(f\"House {i} not placed.\")\n",
        "else:\n",
        "    print(\"The problem does not have an optimal solution.\")"
      ],
      "metadata": {
        "id": "STFG1VoLztej",
        "outputId": "56e76355-1e83-40a1-c4d0-d77f73a96aa4",
        "colab": {
          "base_uri": "https://localhost:8080/"
        }
      },
      "execution_count": 120,
      "outputs": [
        {
          "output_type": "stream",
          "name": "stdout",
          "text": [
            "Max number of houses placed: 16.0\n",
            "House 0 placed at (0, 0)\n",
            "House 1 placed at (0, 0)\n",
            "House 2 placed at (0, 0)\n",
            "House 3 placed at (0, 0)\n",
            "House 4 placed at (0, 0)\n",
            "House 5 placed at (0, 0)\n",
            "House 6 placed at (0, 0)\n",
            "House 7 placed at (0, 0)\n",
            "House 8 placed at (0, 0)\n",
            "House 9 placed at (0, 0)\n",
            "House 10 placed at (0, 0)\n",
            "House 11 placed at (0, 0)\n",
            "House 12 placed at (0, 0)\n",
            "House 13 placed at (0, 0)\n",
            "House 14 placed at (0, 0)\n",
            "House 15 placed at (0, 0)\n"
          ]
        }
      ]
    },
    {
      "cell_type": "code",
      "source": [
        "plot_result(solver)"
      ],
      "metadata": {
        "id": "aZrUNPLqz5UY",
        "outputId": "412ac4e8-3f67-44e9-f37d-68b657be07ab",
        "colab": {
          "base_uri": "https://localhost:8080/",
          "height": 498
        }
      },
      "execution_count": 121,
      "outputs": [
        {
          "output_type": "stream",
          "name": "stdout",
          "text": [
            "x1: 0\n",
            "x2: 70\n",
            "y1: 0\n",
            "y2: 30\n"
          ]
        },
        {
          "output_type": "display_data",
          "data": {
            "text/plain": [
              "<Figure size 640x480 with 1 Axes>"
            ],
            "image/png": "[encoded data removed]"
          },
          "metadata": {}
        }
      ]
    },
    {
      "cell_type": "markdown",
      "metadata": {
        "id": "SiOSdX6-Xg-X"
      },
      "source": [
        "### 🧩 Task II - adding the roads"
      ]
    },
    {
      "cell_type": "markdown",
      "metadata": {
        "id": "hX6UuVi3Xg-X"
      },
      "source": [
        "Our houses are placed in a dense grid. Add roads, bike lanes and walkways as constraints to our model"
      ]
    },
    {
      "cell_type": "code",
      "execution_count": null,
      "metadata": {
        "id": "IMgEcupAXg-X"
      },
      "outputs": [],
      "source": [
        "# your code here"
      ]
    },
    {
      "cell_type": "code",
      "execution_count": null,
      "metadata": {
        "id": "EIxb9lVJXg-X"
      },
      "outputs": [],
      "source": []
    }
  ],
  "metadata": {
    "kernelspec": {
      "display_name": "iaac2024",
      "language": "python",
      "name": "python3"
    },
    "language_info": {
      "codemirror_mode": {
        "name": "ipython",
        "version": 3
      },
      "file_extension": ".py",
      "mimetype": "text/x-python",
      "name": "python",
      "nbconvert_exporter": "python",
      "pygments_lexer": "ipython3",
      "version": "3.10.6"
    },
    "colab": {
      "provenance": [],
      "include_colab_link": true
    }
  },
  "nbformat": 4,
  "nbformat_minor": 0
}